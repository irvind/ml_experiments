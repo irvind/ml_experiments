{
 "cells": [
  {
   "cell_type": "code",
   "execution_count": 51,
   "id": "a4f343b7-0ee2-4636-852e-2fb51bdc6b81",
   "metadata": {},
   "outputs": [],
   "source": [
    "# https://pub.towardsai.net/genetic-algorithm-ga-introduction-with-example-code-e59f9bc58eaf\n",
    "# https://www.baeldung.com/cs/genetic-algorithms-roulette-selection\n",
    "import numpy as np\n",
    "\n",
    "def square(v):\n",
    "    return sum(v**2)\n",
    "\n",
    "population = []\n",
    "population_size = 20\n",
    "cost_min, cost_max = -10, 10\n",
    "gene_count = 7\n",
    "cost_func = square\n",
    "\n",
    "for i in range(population_size):\n",
    "    position = np.random.uniform(cost_min, cost_max, gene_count)\n",
    "    cost = square(position)\n",
    "    population.append({'position': position, 'cost': cost})"
   ]
  },
  {
   "cell_type": "code",
   "execution_count": 72,
   "id": "7efb9087-f08e-4f94-b4b8-2fc2b5315816",
   "metadata": {},
   "outputs": [],
   "source": [
    "def roulette_wheel_selection(pop_prop):\n",
    "    c = np.cumsum(pop_prop)\n",
    "    r = sum(pop_prop) * np.random.rand()\n",
    "    ind = np.argwhere(r <= c)\n",
    "    return ind[0][0]"
   ]
  },
  {
   "cell_type": "code",
   "execution_count": 60,
   "id": "0eb8ac4a-bc8b-460e-8a66-414f38ceb135",
   "metadata": {},
   "outputs": [
    {
     "name": "stdout",
     "output_type": "stream",
     "text": [
      "[257.77438023 220.23684766 139.77695682 254.84909836 410.77549115\n",
      " 353.95943373 138.62236438 145.12365116  88.18047255 297.61161737\n",
      " 214.01315306 189.13367074 160.11355209 243.73466363 216.689312\n",
      " 192.42669875 271.22749147 255.21500972 173.08497982 265.15370207]\n",
      "224.38512733730195\n",
      "[1.14880332 0.98151268 0.62293325 1.13576644 1.83067165 1.57746388\n",
      " 0.61778767 0.64676145 0.39298715 1.32634289 0.95377602 0.84289754\n",
      " 0.7135658  1.0862336  0.96570265 0.85757332 1.20875877 1.13739717\n",
      " 0.77137456 1.18169018]\n",
      "[0.31701591 0.3747438  0.53636882 0.32117586 0.16030586 0.20649814\n",
      " 0.53913587 0.52373919 0.67503742 0.26544626 0.38528344 0.43046144\n",
      " 0.48989422 0.33748521 0.3807156  0.42419021 0.29856764 0.32065254\n",
      " 0.46237706 0.30675982]\n"
     ]
    }
   ],
   "source": [
    "costs = np.array([p['cost'] for p in population])\n",
    "costs_mean = costs.mean()\n",
    "costs_mean_div = None\n",
    "if costs_mean != 0:\n",
    "    costs_mean_div = costs / costs_mean\n",
    "    neg_exp_costs = np.exp(-costs_mean_div)\n",
    "\n",
    "print(costs)\n",
    "print(costs_mean)\n",
    "print(costs_mean_div)\n",
    "print(neg_exp_costs)"
   ]
  },
  {
   "cell_type": "code",
   "execution_count": 74,
   "id": "774ab999-385e-4190-ba06-8cb3ba0f737d",
   "metadata": {},
   "outputs": [],
   "source": [
    "def calc_prob_dist(pop):\n",
    "    beta = 1\n",
    "    costs = np.array([p['cost'] for p in pop])\n",
    "    costs_mean = costs.mean()\n",
    "    assert costs_mean != 0.0\n",
    "    costs_mean_div = costs / costs_mean\n",
    "    neg_exp_costs = np.exp(-beta * costs_mean_div)\n",
    "\n",
    "    return neg_exp_costs\n",
    "\n",
    "prob_dist = calc_prob_dist(population)"
   ]
  },
  {
   "cell_type": "code",
   "execution_count": 83,
   "id": "2e020a0e-b0e0-429e-b67c-df842e02f494",
   "metadata": {},
   "outputs": [
    {
     "name": "stdout",
     "output_type": "stream",
     "text": [
      "18\n",
      "13\n"
     ]
    }
   ],
   "source": [
    "print(roulette_wheel_selection(prob_dist))\n",
    "print(roulette_wheel_selection(prob_dist))"
   ]
  },
  {
   "cell_type": "code",
   "execution_count": 50,
   "id": "f0c99c76-2e7d-43d8-999f-ba71ab2bb563",
   "metadata": {},
   "outputs": [
    {
     "data": {
      "text/plain": [
       "array([[0, 1],\n",
       "       [0, 2],\n",
       "       [0, 4],\n",
       "       [1, 1],\n",
       "       [1, 2],\n",
       "       [1, 4]])"
      ]
     },
     "execution_count": 50,
     "metadata": {},
     "output_type": "execute_result"
    }
   ],
   "source": [
    "import numpy as np\n",
    "\n",
    "np.random.uniform(-10, 10, 5)\n",
    "np.random.rand()\n",
    "_arr = np.array([10, 20, 30, 40])\n",
    "_arr_csum = np.cumsum(_arr)\n",
    "np.argwhere(90 <= _arr_csum)\n",
    "np.argwhere(np.array([False, True, True, False, True]))\n",
    "np.argwhere(np.array([[False, True, True, False, True],\n",
    "                      [False, True, True, False, True]]))\n",
    "# _arr_csum\n",
    "# 9 <= _arr_csum "
   ]
  },
  {
   "cell_type": "code",
   "execution_count": 64,
   "id": "a7d7fdf4-81d8-4a52-82d4-bc5ca622fa99",
   "metadata": {},
   "outputs": [
    {
     "data": {
      "text/plain": [
       "[<matplotlib.lines.Line2D at 0x7f412adb8a60>]"
      ]
     },
     "execution_count": 64,
     "metadata": {},
     "output_type": "execute_result"
    },
    {
     "data": {
      "image/png": "[encoded data removed]",
      "text/plain": [
       "<Figure size 432x288 with 1 Axes>"
      ]
     },
     "metadata": {
      "needs_background": "light"
     },
     "output_type": "display_data"
    }
   ],
   "source": [
    "import matplotlib.pyplot as plt\n",
    "space_x = np.linspace(0.0, 3.0, 10)\n",
    "exp_y = np.exp(space_x)\n",
    "plt.plot(space_x, exp_y, linewidth=2)"
   ]
  },
  {
   "cell_type": "code",
   "execution_count": 70,
   "id": "0ddb052e-02d9-48a7-a26f-516281796383",
   "metadata": {},
   "outputs": [
    {
     "data": {
      "text/plain": [
       "[<matplotlib.lines.Line2D at 0x7f412abae610>]"
      ]
     },
     "execution_count": 70,
     "metadata": {},
     "output_type": "execute_result"
    },
    {
     "data": {
      "image/png": "[encoded data removed]",
      "text/plain": [
       "<Figure size 432x288 with 1 Axes>"
      ]
     },
     "metadata": {
      "needs_background": "light"
     },
     "output_type": "display_data"
    }
   ],
   "source": [
    "space_x = np.linspace(0.0, 3.0, 10)\n",
    "exp_y = np.exp(-space_x)\n",
    "plt.plot(space_x, exp_y, linewidth=2)"
   ]
  }
 ],
 "metadata": {
  "kernelspec": {
   "display_name": "Python 3 (ipykernel)",
   "language": "python",
   "name": "python3"
  },
  "language_info": {
   "codemirror_mode": {
    "name": "ipython",
    "version": 3
   },
   "file_extension": ".py",
   "mimetype": "text/x-python",
   "name": "python",
   "nbconvert_exporter": "python",
   "pygments_lexer": "ipython3",
   "version": "3.9.7"
  }
 },
 "nbformat": 4,
 "nbformat_minor": 5
}
