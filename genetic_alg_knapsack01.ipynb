{
 "cells": [
  {
   "cell_type": "code",
   "execution_count": 1,
   "id": "71c42ffe-0c63-469a-ad7d-7ee59ff92060",
   "metadata": {},
   "outputs": [
    {
     "name": "stdout",
     "output_type": "stream",
     "text": [
      "Solve W=20 w=[6, 14] v=[30, 1] n=2: 31\n",
      "Solve W=20 w=[6, 15] v=[30, 1] n=2: 30\n",
      "Solve W=20 w=[1, 2, 3, 4, 5, 6] v=[6, 5, 4, 3, 2, 1] n=6: 20\n"
     ]
    }
   ],
   "source": [
    "class KnapsackOptimal:\n",
    "    def __init__(self, bag_max_weight, item_weights, item_values):\n",
    "        self.solution_values = {}\n",
    "        self.bag_max_weight = bag_max_weight\n",
    "        self.item_weights = item_weights\n",
    "        self.item_values = item_values\n",
    "        self.number_of_items = len(item_weights)\n",
    "    \n",
    "    def solve(self):\n",
    "        return self._solver(self.bag_max_weight,\n",
    "                            self.item_weights,\n",
    "                            self.item_values,\n",
    "                            self.number_of_items)\n",
    "    \n",
    "    def _solver(self, W, w, v, n):\n",
    "        # print('_solver', W, w, v, n)\n",
    "        if n == 0 or W == 0:\n",
    "            return 0\n",
    "\n",
    "        if w[n-1] > W:\n",
    "            return self._solver(W, w, v, n-1)\n",
    "        \n",
    "        if (W, n) in self.solution_values:\n",
    "            return self.solution_values[(W, n)]\n",
    "        \n",
    "        value_with_item = v[n-1] + self._solver(W - w[n-1], w, v, n-1)\n",
    "        value_without_item = self._solver(W, w, v, n-1)\n",
    "        best_value = max(value_with_item, value_without_item)\n",
    "        \n",
    "        self.solution_values[(W, n)] = best_value\n",
    "        \n",
    "        return best_value\n",
    "    \n",
    "    \n",
    "def solve_optimal_knapsack(bag_max_weight, item_weights, item_values):\n",
    "    algo = KnapsackOptimal(bag_max_weight, item_weights, item_values)\n",
    "    answer = algo.solve()\n",
    "    print(f'Solve W={bag_max_weight} w={item_weights} v={item_values} n={len(item_weights)}:', answer)\n",
    "\n",
    "\n",
    "solve_optimal_knapsack(20, [6, 14], [30, 1])\n",
    "solve_optimal_knapsack(20, [6, 15], [30, 1])\n",
    "solve_optimal_knapsack(20, [1, 2, 3, 4, 5, 6], [6, 5, 4, 3, 2, 1])"
   ]
  },
  {
   "cell_type": "code",
   "execution_count": 2,
   "id": "0854d104-9a7f-4d1b-81c7-fd2319e13026",
   "metadata": {},
   "outputs": [],
   "source": [
    "max_weight = 30\n",
    "item_weights = [7, 2, 1, 9, 5, 4, 3, 6, 8]\n",
    "item_values =  [5, 4, 7, 2, 6, 1, 3, 8, 9]"
   ]
  },
  {
   "cell_type": "code",
   "execution_count": 3,
   "id": "8a416390-34a8-4083-9a64-72809bb58e5e",
   "metadata": {},
   "outputs": [
    {
     "data": {
      "text/plain": [
       "[(0, 1, 1, 0, 1, 0, 0, 0, 0),\n",
       " (0, 0, 0, 1, 0, 0, 0, 1, 1),\n",
       " (1, 0, 1, 0, 1, 0, 0, 0, 1),\n",
       " (0, 1, 1, 0, 1, 0, 0, 1, 1),\n",
       " (0, 1, 1, 1, 0, 0, 1, 1, 1),\n",
       " (0, 1, 1, 1, 1, 1, 0, 0, 1),\n",
       " (1, 1, 0, 1, 1, 1, 0, 0, 1),\n",
       " (0, 0, 1, 0, 0, 1, 0, 0, 1),\n",
       " (1, 0, 0, 1, 1, 1, 1, 0, 1),\n",
       " (0, 1, 0, 0, 1, 1, 0, 1, 1)]"
      ]
     },
     "execution_count": 3,
     "metadata": {},
     "output_type": "execute_result"
    }
   ],
   "source": [
    "import random\n",
    "\n",
    "def generate_population(count):\n",
    "    result = set()\n",
    "    while len(result) < count:\n",
    "        new_individual = tuple(random.choices([0, 1], k=len(item_weights)))\n",
    "        result.add(new_individual)\n",
    "    \n",
    "    return list(result)\n",
    "\n",
    "POPULATION_SIZE = 10\n",
    "population = generate_population(POPULATION_SIZE)\n",
    "population"
   ]
  },
  {
   "cell_type": "code",
   "execution_count": 4,
   "id": "ca8b9f44-eac2-403b-9369-b868f4368bfd",
   "metadata": {},
   "outputs": [],
   "source": [
    "def calc_fitness(indiv):\n",
    "    total_value, total_weight = 0, 0\n",
    "    for idx, flag in enumerate(indiv):\n",
    "        total_value += item_values[idx] if flag else 0\n",
    "        total_weight += item_weights[idx] if flag else 0\n",
    "    \n",
    "    return total_value if total_weight <= max_weight else 0\n",
    "\n",
    "# calc_fitness((1, 1, 1, 0))"
   ]
  },
  {
   "cell_type": "code",
   "execution_count": 5,
   "id": "9bf7a780-ad3a-4514-90b6-e44ed085cdcb",
   "metadata": {},
   "outputs": [
    {
     "name": "stdout",
     "output_type": "stream",
     "text": [
      "[(1, 0, 1, 0, 1, 0, 0, 0, 1), (0, 1, 1, 1, 0, 0, 1, 1, 1)]\n"
     ]
    }
   ],
   "source": [
    "import copy\n",
    "\n",
    "def selection(population):\n",
    "    parents = []\n",
    "    \n",
    "    population = copy.deepcopy(population)\n",
    "    random.shuffle(population)\n",
    "    \n",
    "    parents.append(population[0]\n",
    "                   if calc_fitness(population[0]) > calc_fitness(population[1])\n",
    "                   else population[1])\n",
    "    parents.append(population[2]\n",
    "                   if calc_fitness(population[2]) > calc_fitness(population[3])\n",
    "                   else population[3])\n",
    "    \n",
    "    return parents\n",
    "\n",
    "parents = selection(population)\n",
    "print(parents)"
   ]
  },
  {
   "cell_type": "code",
   "execution_count": 6,
   "id": "cd3fa6b5-69e9-472d-91a4-225d21072ec6",
   "metadata": {},
   "outputs": [
    {
     "data": {
      "text/plain": [
       "[(1, 0, 1, 0, 0, 0, 1, 1, 1), (1, 0, 0, 0, 1, 0, 1, 1, 1)]"
      ]
     },
     "execution_count": 6,
     "metadata": {},
     "output_type": "execute_result"
    }
   ],
   "source": [
    "def crossover(parents):\n",
    "    assert len(parents) == 2\n",
    "    # print(parents[0], parents[1])\n",
    "    # print(5 // 2)\n",
    "    split = len(item_values) // 2\n",
    "    child1 = parents[0][:split] + parents[1][split:]\n",
    "    child2 = parents[0][split:] + parents[1][:split]\n",
    "    \n",
    "    return [child1, child2]\n",
    "\n",
    "crossover(parents)"
   ]
  },
  {
   "cell_type": "code",
   "execution_count": 7,
   "id": "ee7dffc1-b73f-4a17-b219-32637d5698b5",
   "metadata": {},
   "outputs": [],
   "source": [
    "MUTATION_RATE = 0.07\n",
    "MUTATION_INTENSITY = 0.15\n",
    "def mutate(offsprings):\n",
    "    \n",
    "    def _mutate_single(ind):\n",
    "        new_bits = []\n",
    "        inv_map = {0: 1, 1: 0}\n",
    "        for bit in ind:\n",
    "            new_bits.append(inv_map[bit]\n",
    "                            if random.random() < MUTATION_INTENSITY\n",
    "                            else bit)\n",
    "        # print(f'mutate {ind} -> {tuple(new_bits)}')\n",
    "        return tuple(new_bits)\n",
    "    \n",
    "    result = []\n",
    "    result.append(_mutate_single(offsprings[0])\n",
    "                  if random.random() < MUTATION_RATE\n",
    "                  else offsprings[0])\n",
    "    result.append(_mutate_single(offsprings[1])\n",
    "                  if random.random() < MUTATION_RATE\n",
    "                  else offsprings[1])\n",
    "    \n",
    "    return result\n"
   ]
  },
  {
   "cell_type": "code",
   "execution_count": 8,
   "id": "6ea8d415-e506-4855-9629-c061f692d43b",
   "metadata": {},
   "outputs": [
    {
     "name": "stdout",
     "output_type": "stream",
     "text": [
      "indiv: (0, 1, 1, 0, 1, 0, 0, 0, 0) / best_fitness: 17\n",
      "indiv: (0, 0, 0, 1, 0, 0, 0, 1, 1) / best_fitness: 19\n",
      "indiv: (1, 0, 1, 0, 1, 0, 0, 0, 1) / best_fitness: 27\n",
      "indiv: (0, 1, 1, 0, 1, 0, 0, 1, 1) / best_fitness: 34\n",
      "indiv: (0, 1, 1, 1, 0, 0, 1, 1, 1) / best_fitness: 33\n",
      "indiv: (0, 1, 1, 1, 1, 1, 0, 0, 1) / best_fitness: 29\n",
      "indiv: (1, 1, 0, 1, 1, 1, 0, 0, 1) / best_fitness: 0\n",
      "indiv: (0, 0, 1, 0, 0, 1, 0, 0, 1) / best_fitness: 17\n",
      "indiv: (1, 0, 0, 1, 1, 1, 1, 0, 1) / best_fitness: 0\n",
      "indiv: (0, 1, 0, 0, 1, 1, 0, 1, 1) / best_fitness: 28\n"
     ]
    }
   ],
   "source": [
    "for ind in population:\n",
    "    print(f'indiv: {ind} / best_fitness: {calc_fitness(ind)}')"
   ]
  },
  {
   "cell_type": "code",
   "execution_count": 9,
   "id": "f143857b-4f43-42c4-8b40-a32719f776c5",
   "metadata": {},
   "outputs": [
    {
     "name": "stdout",
     "output_type": "stream",
     "text": [
      "best_fitness: 38\n",
      "indiv: (1, 0, 1, 0, 1, 0, 1, 1, 1) / best_fitness: 38\n",
      "indiv: (1, 0, 1, 0, 1, 0, 1, 1, 1) / best_fitness: 38\n",
      "indiv: (1, 0, 1, 0, 1, 0, 1, 1, 1) / best_fitness: 38\n",
      "indiv: (1, 0, 1, 0, 1, 0, 1, 1, 1) / best_fitness: 38\n",
      "indiv: (1, 0, 1, 0, 1, 0, 1, 1, 1) / best_fitness: 38\n",
      "indiv: (1, 0, 1, 0, 1, 0, 1, 1, 1) / best_fitness: 38\n",
      "indiv: (1, 0, 1, 0, 1, 0, 1, 1, 1) / best_fitness: 38\n",
      "indiv: (1, 0, 1, 0, 1, 0, 1, 1, 1) / best_fitness: 38\n",
      "indiv: (1, 0, 1, 0, 1, 0, 1, 1, 1) / best_fitness: 38\n",
      "indiv: (1, 0, 1, 0, 1, 0, 1, 1, 1) / best_fitness: 38\n"
     ]
    }
   ],
   "source": [
    "import copy\n",
    "\n",
    "best_fitness = -1000\n",
    "for i in range(100):\n",
    "    offsprings = []\n",
    "    while len(offsprings) < POPULATION_SIZE:\n",
    "        parents = selection(population)\n",
    "        new_offsprings = crossover(parents)\n",
    "        # new_offsprings = mutate(new_offsprings)\n",
    "        offsprings.extend(new_offsprings)\n",
    "    \n",
    "    new_population = []\n",
    "    new_population.extend(population)\n",
    "    new_population.extend(offsprings)\n",
    "    new_population.sort(key=lambda i: calc_fitness(i), reverse=True)\n",
    "    # for ind in new_population:\n",
    "    #     print(ind, calc_fitness(ind))\n",
    "    new_population = new_population[:POPULATION_SIZE]\n",
    "    population = new_population\n",
    "    best_fitness = max(best_fitness, calc_fitness(population[0]))\n",
    "    # print(f'idx: {i} / indiv: {population[0]} / best_fitness: {best_fitness}')\n",
    "\n",
    "\n",
    "print('best_fitness:', best_fitness)\n",
    "\n",
    "for ind in population:\n",
    "    print(f'indiv: {ind} / best_fitness: {calc_fitness(ind)}')"
   ]
  },
  {
   "cell_type": "code",
   "execution_count": null,
   "id": "b7206188-5196-4d31-8bc3-8eaef65f90d9",
   "metadata": {},
   "outputs": [],
   "source": []
  }
 ],
 "metadata": {
  "kernelspec": {
   "display_name": "Python 3 (ipykernel)",
   "language": "python",
   "name": "python3"
  },
  "language_info": {
   "codemirror_mode": {
    "name": "ipython",
    "version": 3
   },
   "file_extension": ".py",
   "mimetype": "text/x-python",
   "name": "python",
   "nbconvert_exporter": "python",
   "pygments_lexer": "ipython3",
   "version": "3.9.7"
  }
 },
 "nbformat": 4,
 "nbformat_minor": 5
}
