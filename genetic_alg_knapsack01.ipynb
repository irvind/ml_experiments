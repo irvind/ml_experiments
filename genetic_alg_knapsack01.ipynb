{
 "cells": [
  {
   "cell_type": "code",
   "execution_count": 19,
   "id": "71c42ffe-0c63-469a-ad7d-7ee59ff92060",
   "metadata": {},
   "outputs": [
    {
     "name": "stdout",
     "output_type": "stream",
     "text": [
      "Solve W=20 w=[6, 14] v=[30, 1] n=2: 31\n",
      "Solve W=20 w=[6, 15] v=[30, 1] n=2: 30\n",
      "Solve W=20 w=[1, 2, 3, 4, 5, 6] v=[6, 5, 4, 3, 2, 1] n=6: 20\n"
     ]
    }
   ],
   "source": [
    "class KnapsackOptimal:\n",
    "    def __init__(self, bag_max_weight, item_weights, item_values):\n",
    "        self.solution_values = {}\n",
    "        self.bag_max_weight = bag_max_weight\n",
    "        self.item_weights = item_weights\n",
    "        self.item_values = item_values\n",
    "        self.number_of_items = len(item_weights)\n",
    "    \n",
    "    def solve(self):\n",
    "        return self._solver(self.bag_max_weight,\n",
    "                            self.item_weights,\n",
    "                            self.item_values,\n",
    "                            self.number_of_items)\n",
    "    \n",
    "    def _solver(self, W, w, v, n):\n",
    "        # print('_solver', W, w, v, n)\n",
    "        if n == 0 or W == 0:\n",
    "            return 0\n",
    "\n",
    "        if w[n-1] > W:\n",
    "            return self._solver(W, w, v, n-1)\n",
    "        \n",
    "        if (W, n) in self.solution_values:\n",
    "            return self.solution_values[(W, n)]\n",
    "        \n",
    "        value_with_item = v[n-1] + self._solver(W - w[n-1], w, v, n-1)\n",
    "        value_without_item = self._solver(W, w, v, n-1)\n",
    "        best_value = max(value_with_item, value_without_item)\n",
    "        \n",
    "        self.solution_values[(W, n)] = best_value\n",
    "        \n",
    "        return best_value\n",
    "    \n",
    "    \n",
    "def solve_optimal_knapsack(bag_max_weight, item_weights, item_values):\n",
    "    algo = KnapsackOptimal(bag_max_weight, item_weights, item_values)\n",
    "    answer = algo.solve()\n",
    "    print(f'Solve W={bag_max_weight} w={item_weights} v={item_values} n={len(item_weights)}:', answer)\n",
    "\n",
    "\n",
    "solve_optimal_knapsack(20, [6, 14], [30, 1])\n",
    "solve_optimal_knapsack(20, [6, 15], [30, 1])\n",
    "solve_optimal_knapsack(20, [1, 2, 3, 4, 5, 6], [6, 5, 4, 3, 2, 1])"
   ]
  }
 ],
 "metadata": {
  "kernelspec": {
   "display_name": "Python 3 (ipykernel)",
   "language": "python",
   "name": "python3"
  },
  "language_info": {
   "codemirror_mode": {
    "name": "ipython",
    "version": 3
   },
   "file_extension": ".py",
   "mimetype": "text/x-python",
   "name": "python",
   "nbconvert_exporter": "python",
   "pygments_lexer": "ipython3",
   "version": "3.9.7"
  }
 },
 "nbformat": 4,
 "nbformat_minor": 5
}
